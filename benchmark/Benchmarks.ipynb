{
 "cells": [
  {
   "cell_type": "code",
   "execution_count": 1,
   "metadata": {},
   "outputs": [],
   "source": [
    "using BenchmarkTools\n",
    "using Distances\n",
    "using NearestNeighborDescent\n",
    "using NearestNeighborDescent: brute_knn, brute_search"
   ]
  },
  {
   "cell_type": "code",
   "execution_count": 2,
   "metadata": {},
   "outputs": [],
   "source": [
    "include(\"./benchutils.jl\");"
   ]
  },
  {
   "cell_type": "code",
   "execution_count": 3,
   "metadata": {},
   "outputs": [
    {
     "data": {
      "text/plain": [
       "bmark (generic function with 1 method)"
      ]
     },
     "execution_count": 3,
     "metadata": {},
     "output_type": "execute_result"
    }
   ],
   "source": [
    "function bmark(name, data, queries, metric)\n",
    "    print(name, \"\\n\")\n",
    "    print(\"Graph construction: \")\n",
    "    knn_graph = @btime DescentGraph($data, 10, $metric)\n",
    "    nn = getindex.(knn_graph.graph, 1)\n",
    "    brute_graph = brute_knn(data, metric, 10)\n",
    "    true_nn = getindex.(brute_graph, 1)\n",
    "    @show recall(nn, true_nn)\n",
    "    true_idx, true_dist = brute_search(data, queries, 10, metric)\n",
    "    idx, dist = search(knn_graph, queries, 10, 70)\n",
    "    @show recall(idx, true_idx)\n",
    "    q_per_sec = length(queries)/(@belapsed search($knn_graph, $queries, 10, 70))\n",
    "    @show q_per_sec\n",
    "    return\n",
    "end"
   ]
  },
  {
   "cell_type": "code",
   "execution_count": 4,
   "metadata": {},
   "outputs": [
    {
     "name": "stdout",
     "output_type": "stream",
     "text": [
      "Fashion MNIST\n",
      "Graph construction:   1.140 s (10434566 allocations: 506.50 MiB)\n",
      "recall(nn, true_nn) = 0.9969600000000001\n",
      "recall(idx, true_idx) = 0.908799999999999\n",
      "q_per_sec = 302.60540029936294\n"
     ]
    }
   ],
   "source": [
    "bmark(\"Fashion MNIST\", FMNIST_data, FMNIST_queries, Euclidean())"
   ]
  },
  {
   "cell_type": "code",
   "execution_count": 5,
   "metadata": {},
   "outputs": [
    {
     "name": "stdout",
     "output_type": "stream",
     "text": [
      "MNIST\n",
      "Graph construction:   1.106 s (9981428 allocations: 506.69 MiB)\n",
      "recall(nn, true_nn) = 0.9895400000000002\n",
      "recall(idx, true_idx) = 0.9873999999999996\n",
      "q_per_sec = 282.14214066102863\n"
     ]
    }
   ],
   "source": [
    "bmark(\"MNIST\", MNIST_data, MNIST_queries, Euclidean())"
   ]
  },
  {
   "cell_type": "code",
   "execution_count": 6,
   "metadata": {},
   "outputs": [
    {
     "name": "stdout",
     "output_type": "stream",
     "text": [
      "Cosine Random\n",
      "Graph construction:   1.658 s (20970290 allocations: 784.45 MiB)\n",
      "recall(nn, true_nn) = 0.7455800000000049\n",
      "recall(idx, true_idx) = 0.9293999999999979\n",
      "q_per_sec = 273.9267928739514\n"
     ]
    }
   ],
   "source": [
    "# Cosine Tests \n",
    "bmark(\"Cosine Random\", rand_data, rand_queries, CosineDist())"
   ]
  },
  {
   "cell_type": "code",
   "execution_count": 7,
   "metadata": {},
   "outputs": [
    {
     "name": "stdout",
     "output_type": "stream",
     "text": [
      "Hamming Random\n",
      "Graph construction:   917.724 ms (6882332 allocations: 454.95 MiB)\n",
      "recall(nn, true_nn) = 0.12828000000000445\n",
      "recall(idx, true_idx) = 0.8247999999999999\n",
      "q_per_sec = 195.56175415044817\n"
     ]
    }
   ],
   "source": [
    "# Hamming Tests\n",
    "bmark(\"Hamming Random\", ham_data, ham_queries, Hamming())"
   ]
  },
  {
   "cell_type": "code",
   "execution_count": null,
   "metadata": {},
   "outputs": [],
   "source": []
  }
 ],
 "metadata": {
  "kernelspec": {
   "display_name": "Julia 1.0.2",
   "language": "julia",
   "name": "julia-1.0"
  },
  "language_info": {
   "file_extension": ".jl",
   "mimetype": "application/julia",
   "name": "julia",
   "version": "1.0.2"
  }
 },
 "nbformat": 4,
 "nbformat_minor": 2
}
