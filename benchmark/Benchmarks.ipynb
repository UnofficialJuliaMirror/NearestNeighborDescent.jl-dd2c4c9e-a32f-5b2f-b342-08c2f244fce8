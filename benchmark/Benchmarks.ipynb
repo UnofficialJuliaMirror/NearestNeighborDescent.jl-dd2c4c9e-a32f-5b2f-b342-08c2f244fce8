{
 "cells": [
  {
   "cell_type": "code",
   "execution_count": 1,
   "metadata": {},
   "outputs": [],
   "source": [
    "using BenchmarkTools\n",
    "using Distances\n",
    "using NearestNeighborDescent\n",
    "using NearestNeighborDescent: brute_knn, brute_search\n",
    "using PyCall\n",
    "@pyimport pynndescent"
   ]
  },
  {
   "cell_type": "code",
   "execution_count": 2,
   "metadata": {},
   "outputs": [],
   "source": [
    "include(\"./benchutils.jl\");"
   ]
  },
  {
   "cell_type": "code",
   "execution_count": 3,
   "metadata": {},
   "outputs": [
    {
     "data": {
      "text/plain": [
       "bmark (generic function with 1 method)"
      ]
     },
     "execution_count": 3,
     "metadata": {},
     "output_type": "execute_result"
    }
   ],
   "source": [
    "function bmark(name, data, queries, metric)\n",
    "    print(name, \"\\n\")\n",
    "    print(\"Graph construction: \")\n",
    "    knn_graph = @btime DescentGraph($data, 10, $metric)\n",
    "    nn = knn_graph.indices\n",
    "    brute_graph = brute_knn(data, metric, 10)\n",
    "    true_nn = getindex.(brute_graph, 1)\n",
    "    @show recall(nn, true_nn)\n",
    "    true_idx, true_dist = brute_search(data, queries, 10, metric)\n",
    "    idx, dist = search(knn_graph, queries, 10, 5)\n",
    "    @show recall(idx, true_idx)\n",
    "    q_per_sec = length(queries)/(@belapsed search($knn_graph, $queries, 10, 10))\n",
    "    @show q_per_sec\n",
    "    if metric == Euclidean()\n",
    "        pynn_metric = \"euclidean\"\n",
    "    elseif metric == CosineDist()\n",
    "        pynn_metric = \"cosine\"\n",
    "    elseif metric == Hamming()\n",
    "        pynn_metric = \"hamming\"\n",
    "    end\n",
    "    print(\"pynn descent: \")\n",
    "    matrix_data = permutedims(hcat(data...))\n",
    "    pynn_graph = @btime pynndescent.NNDescent($matrix_data, n_neighbors=10, metric=$pynn_metric)\n",
    "    pynn_nn = permutedims(pynn_graph[:_neighbor_graph][1]) .+ 1\n",
    "    @show recall(pynn_nn, true_nn)\n",
    "    matrix_queries = permutedims(hcat(queries...))\n",
    "    pynn_idx, pynn_dists = pynn_graph[:query](matrix_queries, k=10)\n",
    "    pynn_idx = permutedims(pynn_idx) .+ 1\n",
    "    @show recall(pynn_idx, true_idx)\n",
    "    pynn_q_per_sec = length(queries) / (@belapsed $(pynn_graph)[:query]($matrix_queries, k=10))\n",
    "    @show pynn_q_per_sec\n",
    "    return\n",
    "end"
   ]
  },
  {
   "cell_type": "code",
   "execution_count": 4,
   "metadata": {},
   "outputs": [
    {
     "name": "stdout",
     "output_type": "stream",
     "text": [
      "Fashion MNIST\n",
      "Graph construction:   1.210 s (19493689 allocations: 957.44 MiB)\n",
      "recall(nn, true_nn) = 0.9968600000000006\n",
      "recall(idx, true_idx) = 0.6827999999999997\n",
      "q_per_sec = 2168.874502831067\n",
      "pynn descent:   2.223 s (48 allocations: 2.39 KiB)\n",
      "recall(pynn_nn, true_nn) = 0.897680000000027\n",
      "recall(pynn_idx, true_idx) = 0.9996\n",
      "pynn_q_per_sec = 5140.270106595734\n"
     ]
    }
   ],
   "source": [
    "bmark(\"Fashion MNIST\", FMNIST_data, FMNIST_queries, Euclidean())"
   ]
  },
  {
   "cell_type": "code",
   "execution_count": 5,
   "metadata": {},
   "outputs": [
    {
     "name": "stdout",
     "output_type": "stream",
     "text": [
      "MNIST\n",
      "Graph construction:   1.184 s (18707990 allocations: 924.29 MiB)\n",
      "recall(nn, true_nn) = 0.9882799999999999\n",
      "recall(idx, true_idx) = 0.6645999999999995\n",
      "q_per_sec = 2092.2045333628394\n",
      "pynn descent:   2.149 s (48 allocations: 2.39 KiB)\n",
      "recall(pynn_nn, true_nn) = 0.8905400000000308\n",
      "recall(pynn_idx, true_idx) = 0.9913999999999995\n",
      "pynn_q_per_sec = 5281.019525745857\n"
     ]
    }
   ],
   "source": [
    "bmark(\"MNIST\", MNIST_data, MNIST_queries, Euclidean())"
   ]
  },
  {
   "cell_type": "code",
   "execution_count": 6,
   "metadata": {},
   "outputs": [
    {
     "name": "stdout",
     "output_type": "stream",
     "text": [
      "Cosine Random\n",
      "Graph construction:   2.029 s (35294082 allocations: 1.77 GiB)\n",
      "recall(nn, true_nn) = 0.7418400000000052\n",
      "recall(idx, true_idx) = 0.5147999999999997\n",
      "q_per_sec = 1941.8670560840255\n",
      "pynn descent:   1.260 s (48 allocations: 2.39 KiB)\n",
      "recall(pynn_nn, true_nn) = 0.480500000000001\n",
      "recall(pynn_idx, true_idx) = 0.7534000000000001\n",
      "pynn_q_per_sec = 9930.452078865665\n"
     ]
    }
   ],
   "source": [
    "# Cosine Tests \n",
    "bmark(\"Cosine Random\", rand_data, rand_queries, CosineDist())"
   ]
  },
  {
   "cell_type": "code",
   "execution_count": 7,
   "metadata": {},
   "outputs": [
    {
     "name": "stdout",
     "output_type": "stream",
     "text": [
      "Hamming Random\n",
      "Graph construction:   889.122 ms (12423877 allocations: 637.92 MiB)\n",
      "recall(nn, true_nn) = 0.1297200000000037\n",
      "recall(idx, true_idx) = 0.14760000000000034\n",
      "q_per_sec = 1089.710352460188\n",
      "pynn descent:   5.852 s (48 allocations: 2.39 KiB)\n",
      "recall(pynn_nn, true_nn) = 0.1057400000000022\n",
      "recall(pynn_idx, true_idx) = 0.18080000000000002\n",
      "pynn_q_per_sec = 1056.3824773215756\n"
     ]
    }
   ],
   "source": [
    "# Hamming Tests\n",
    "bmark(\"Hamming Random\", ham_data, ham_queries, Hamming())"
   ]
  },
  {
   "cell_type": "code",
   "execution_count": null,
   "metadata": {},
   "outputs": [],
   "source": []
  }
 ],
 "metadata": {
  "kernelspec": {
   "display_name": "Julia 1.0.2",
   "language": "julia",
   "name": "julia-1.0"
  },
  "language_info": {
   "file_extension": ".jl",
   "mimetype": "application/julia",
   "name": "julia",
   "version": "1.0.2"
  }
 },
 "nbformat": 4,
 "nbformat_minor": 2
}
