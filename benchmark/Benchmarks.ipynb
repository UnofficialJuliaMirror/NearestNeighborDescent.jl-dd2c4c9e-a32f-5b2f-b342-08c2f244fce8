{
 "cells": [
  {
   "cell_type": "code",
   "execution_count": 1,
   "metadata": {},
   "outputs": [
    {
     "name": "stderr",
     "output_type": "stream",
     "text": [
      "┌ Info: Recompiling stale cache file /home/dillon/.julia/compiled/v1.0/NearestNeighborDescent/dBdpT.ji for NearestNeighborDescent [1dd1f7d0-b91d-11e8-266b-d34208f3077b]\n",
      "└ @ Base loading.jl:1190\n"
     ]
    }
   ],
   "source": [
    "using BenchmarkTools\n",
    "using Distances\n",
    "using NearestNeighborDescent\n",
    "using NearestNeighborDescent: brute_knn, brute_search\n",
    "using PyCall\n",
    "@pyimport pynndescent"
   ]
  },
  {
   "cell_type": "code",
   "execution_count": 2,
   "metadata": {},
   "outputs": [],
   "source": [
    "include(\"./benchutils.jl\");"
   ]
  },
  {
   "cell_type": "code",
   "execution_count": 3,
   "metadata": {},
   "outputs": [
    {
     "data": {
      "text/plain": [
       "bmark (generic function with 1 method)"
      ]
     },
     "execution_count": 3,
     "metadata": {},
     "output_type": "execute_result"
    }
   ],
   "source": [
    "function bmark(name, data, queries, metric)\n",
    "    print(name, \"\\n\")\n",
    "    print(\"Graph construction: \")\n",
    "    knn_graph = @btime DescentGraph($data, 10, $metric)\n",
    "    nn = getindex.(knn_graph.graph, 1)\n",
    "    brute_graph = brute_knn(data, metric, 10)\n",
    "    true_nn = getindex.(brute_graph, 1)\n",
    "    @show recall(nn, true_nn)\n",
    "    true_idx, true_dist = brute_search(data, queries, 10, metric)\n",
    "    idx, dist = search(knn_graph, queries, 10, 70)\n",
    "    @show recall(idx, true_idx)\n",
    "    q_per_sec = length(queries)/(@belapsed search($knn_graph, $queries, 10, 70))\n",
    "    @show q_per_sec\n",
    "    if metric == Euclidean()\n",
    "        pynn_metric = \"euclidean\"\n",
    "    elseif metric == CosineDist()\n",
    "        pynn_metric = \"cosine\"\n",
    "    elseif metric == Hamming()\n",
    "        pynn_metric = \"hamming\"\n",
    "    end\n",
    "    print(\"pynn descent: \")\n",
    "    matrix_data = permutedims(hcat(data...))\n",
    "    pynn_graph = @btime pynndescent.NNDescent($matrix_data, n_neighbors=10, metric=$pynn_metric)\n",
    "    pynn_nn = permutedims(pynn_graph[:_neighbor_graph][1]) .+ 1\n",
    "    @show recall(pynn_nn, true_nn)\n",
    "    matrix_queries = permutedims(hcat(queries...))\n",
    "    pynn_idx, pynn_dists = pynn_graph[:query](matrix_queries, k=10)\n",
    "    pynn_idx = permutedims(pynn_idx) .+ 1\n",
    "    @show recall(pynn_idx, true_idx)\n",
    "    return\n",
    "end"
   ]
  },
  {
   "cell_type": "code",
   "execution_count": 4,
   "metadata": {},
   "outputs": [
    {
     "name": "stdout",
     "output_type": "stream",
     "text": [
      "Fashion MNIST\n",
      "Graph construction:   1.140 s (10439774 allocations: 506.60 MiB)\n",
      "recall(nn, true_nn) = 0.9972200000000001\n",
      "recall(idx, true_idx) = 0.9103999999999992\n",
      "q_per_sec = 296.9891890577498\n",
      "pynn descent:   2.293 s (48 allocations: 2.39 KiB)\n",
      "recall(pynn_nn, true_nn) = 0.8977400000000271\n",
      "recall(pynn_idx, true_idx) = 0.9987999999999999\n"
     ]
    }
   ],
   "source": [
    "bmark(\"Fashion MNIST\", FMNIST_data, FMNIST_queries, Euclidean())"
   ]
  },
  {
   "cell_type": "code",
   "execution_count": 5,
   "metadata": {},
   "outputs": [
    {
     "name": "stdout",
     "output_type": "stream",
     "text": [
      "MNIST\n",
      "Graph construction:   1.124 s (9972703 allocations: 506.55 MiB)\n",
      "recall(nn, true_nn) = 0.9880600000000003\n",
      "recall(idx, true_idx) = 0.9875999999999997\n",
      "q_per_sec = 279.25088327836283\n",
      "pynn descent:   2.202 s (48 allocations: 2.39 KiB)\n",
      "recall(pynn_nn, true_nn) = 0.89204000000003\n",
      "recall(pynn_idx, true_idx) = 0.9905999999999994\n"
     ]
    }
   ],
   "source": [
    "bmark(\"MNIST\", MNIST_data, MNIST_queries, Euclidean())"
   ]
  },
  {
   "cell_type": "code",
   "execution_count": 6,
   "metadata": {},
   "outputs": [
    {
     "name": "stdout",
     "output_type": "stream",
     "text": [
      "Cosine Random\n",
      "Graph construction:   1.704 s (21483978 allocations: 796.81 MiB)\n",
      "recall(nn, true_nn) = 0.7490000000000093\n",
      "recall(idx, true_idx) = 0.9237999999999983\n",
      "q_per_sec = 272.41876357917977\n",
      "pynn descent:   1.290 s (48 allocations: 2.39 KiB)\n",
      "recall(pynn_nn, true_nn) = 0.4840200000000018\n",
      "recall(pynn_idx, true_idx) = 0.7649999999999996\n"
     ]
    }
   ],
   "source": [
    "# Cosine Tests \n",
    "bmark(\"Cosine Random\", rand_data, rand_queries, CosineDist())"
   ]
  },
  {
   "cell_type": "code",
   "execution_count": 7,
   "metadata": {},
   "outputs": [
    {
     "name": "stdout",
     "output_type": "stream",
     "text": [
      "Hamming Random\n",
      "Graph construction:   926.440 ms (6911597 allocations: 455.76 MiB)\n",
      "recall(nn, true_nn) = 0.13180000000000455\n",
      "recall(idx, true_idx) = 0.8383999999999984\n",
      "q_per_sec = 194.33606844455386\n",
      "pynn descent:   5.926 s (48 allocations: 2.39 KiB)\n",
      "recall(pynn_nn, true_nn) = 0.10416000000000263\n",
      "recall(pynn_idx, true_idx) = 0.17880000000000001\n"
     ]
    }
   ],
   "source": [
    "# Hamming Tests\n",
    "bmark(\"Hamming Random\", ham_data, ham_queries, Hamming())"
   ]
  },
  {
   "cell_type": "code",
   "execution_count": null,
   "metadata": {},
   "outputs": [],
   "source": []
  }
 ],
 "metadata": {
  "kernelspec": {
   "display_name": "Julia 1.0.2",
   "language": "julia",
   "name": "julia-1.0"
  },
  "language_info": {
   "file_extension": ".jl",
   "mimetype": "application/julia",
   "name": "julia",
   "version": "1.0.2"
  }
 },
 "nbformat": 4,
 "nbformat_minor": 2
}
