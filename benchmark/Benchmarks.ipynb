{
 "cells": [
  {
   "cell_type": "code",
   "execution_count": 1,
   "metadata": {},
   "outputs": [],
   "source": [
    "using BenchmarkTools\n",
    "using Distances\n",
    "using MLDatasets\n",
    "using NNDescent\n",
    "using NNDescent: brute_knn, brute_search, NNTuple"
   ]
  },
  {
   "cell_type": "code",
   "execution_count": 2,
   "metadata": {},
   "outputs": [
    {
     "data": {
      "text/plain": [
       "_recall (generic function with 1 method)"
      ]
     },
     "execution_count": 2,
     "metadata": {},
     "output_type": "execute_result"
    }
   ],
   "source": [
    "recall(nn, true_nn) = sum(_recall(nn[:,i], true_nn[:,i]) for i in 1:size(nn,2))/size(nn,2)\n",
    "_recall(π, πₜ) = length(intersect(π, πₜ))/length(πₜ)"
   ]
  },
  {
   "cell_type": "code",
   "execution_count": 3,
   "metadata": {},
   "outputs": [],
   "source": [
    "train_x, train_y = FashionMNIST.traindata()\n",
    "test_x, test_y = FashionMNIST.testdata()\n",
    "train_x = reshape(train_x, size(train_x)[1]*size(train_x)[2], size(train_x)[3])\n",
    "test_x = reshape(test_x, size(test_x)[1]*size(test_x)[2], size(test_x)[3])\n",
    "\n",
    "data = [convert.(Float32, train_x[:,i]) for i = 1:size(train_x, 2)]\n",
    "data = data[1:5000]\n",
    "queries = [convert.(Float32, test_x[:,i]) for i = 1:size(test_x, 2)]\n",
    "queries = queries[1:500];"
   ]
  },
  {
   "cell_type": "code",
   "execution_count": 4,
   "metadata": {},
   "outputs": [],
   "source": [
    "knn_graph = DescentGraph(data, 10)\n",
    "nn = getindex.(knn_graph.graph, 1);"
   ]
  },
  {
   "cell_type": "code",
   "execution_count": 5,
   "metadata": {},
   "outputs": [],
   "source": [
    "brute_graph = brute_knn(data, Euclidean(), 10)\n",
    "true_nn = getindex.(brute_graph, 1);"
   ]
  },
  {
   "cell_type": "code",
   "execution_count": 6,
   "metadata": {},
   "outputs": [
    {
     "data": {
      "text/plain": [
       "0.9968400000000002"
      ]
     },
     "execution_count": 6,
     "metadata": {},
     "output_type": "execute_result"
    }
   ],
   "source": [
    "recall(nn, true_nn)"
   ]
  },
  {
   "cell_type": "code",
   "execution_count": 7,
   "metadata": {},
   "outputs": [],
   "source": [
    "true_idx, true_dist = brute_search(data, queries, 5, Euclidean());"
   ]
  },
  {
   "cell_type": "code",
   "execution_count": 8,
   "metadata": {},
   "outputs": [],
   "source": [
    "idx, dist = search(knn_graph, queries, 5, 100);"
   ]
  },
  {
   "cell_type": "code",
   "execution_count": 9,
   "metadata": {},
   "outputs": [
    {
     "data": {
      "text/plain": [
       "0.8800000000000003"
      ]
     },
     "execution_count": 9,
     "metadata": {},
     "output_type": "execute_result"
    }
   ],
   "source": [
    "recall(idx, true_idx)"
   ]
  },
  {
   "cell_type": "code",
   "execution_count": 10,
   "metadata": {},
   "outputs": [
    {
     "data": {
      "text/plain": [
       "133.0004222109043"
      ]
     },
     "execution_count": 10,
     "metadata": {},
     "output_type": "execute_result"
    }
   ],
   "source": [
    "q_per_sec = length(queries)/(@belapsed search(knn_graph, queries, 5, 100))"
   ]
  },
  {
   "cell_type": "code",
   "execution_count": 11,
   "metadata": {},
   "outputs": [
    {
     "data": {
      "text/plain": [
       "BenchmarkTools.Trial: \n",
       "  memory estimate:  534.20 MiB\n",
       "  allocs estimate:  11924267\n",
       "  --------------\n",
       "  minimum time:     1.034 s (11.75% GC)\n",
       "  median time:      1.075 s (13.73% GC)\n",
       "  mean time:        1.077 s (14.39% GC)\n",
       "  maximum time:     1.140 s (17.22% GC)\n",
       "  --------------\n",
       "  samples:          5\n",
       "  evals/sample:     1"
      ]
     },
     "execution_count": 11,
     "metadata": {},
     "output_type": "execute_result"
    }
   ],
   "source": [
    "@benchmark DescentGraph(data, 10)"
   ]
  },
  {
   "cell_type": "code",
   "execution_count": 12,
   "metadata": {},
   "outputs": [
    {
     "data": {
      "text/plain": [
       "BenchmarkTools.Trial: \n",
       "  memory estimate:  261.46 MiB\n",
       "  allocs estimate:  6426462\n",
       "  --------------\n",
       "  minimum time:     443.178 ms (6.93% GC)\n",
       "  median time:      471.562 ms (10.70% GC)\n",
       "  mean time:        468.908 ms (10.30% GC)\n",
       "  maximum time:     497.649 ms (11.62% GC)\n",
       "  --------------\n",
       "  samples:          11\n",
       "  evals/sample:     1"
      ]
     },
     "execution_count": 12,
     "metadata": {},
     "output_type": "execute_result"
    }
   ],
   "source": [
    "@benchmark search(knn_graph, queries, 5, 20)"
   ]
  },
  {
   "cell_type": "code",
   "execution_count": 13,
   "metadata": {},
   "outputs": [
    {
     "data": {
      "text/plain": [
       "BenchmarkTools.Trial: \n",
       "  memory estimate:  1.98 GiB\n",
       "  allocs estimate:  70208364\n",
       "  --------------\n",
       "  minimum time:     8.433 s (10.10% GC)\n",
       "  median time:      8.433 s (10.10% GC)\n",
       "  mean time:        8.433 s (10.10% GC)\n",
       "  maximum time:     8.433 s (10.10% GC)\n",
       "  --------------\n",
       "  samples:          1\n",
       "  evals/sample:     1"
      ]
     },
     "execution_count": 13,
     "metadata": {},
     "output_type": "execute_result"
    }
   ],
   "source": [
    "@benchmark brute_knn(data, Euclidean(), 10)"
   ]
  },
  {
   "cell_type": "code",
   "execution_count": 14,
   "metadata": {},
   "outputs": [
    {
     "data": {
      "text/plain": [
       "BenchmarkTools.Trial: \n",
       "  memory estimate:  151.08 MiB\n",
       "  allocs estimate:  4799945\n",
       "  --------------\n",
       "  minimum time:     715.664 ms (10.54% GC)\n",
       "  median time:      749.121 ms (17.04% GC)\n",
       "  mean time:        746.433 ms (16.26% GC)\n",
       "  maximum time:     760.739 ms (18.01% GC)\n",
       "  --------------\n",
       "  samples:          7\n",
       "  evals/sample:     1"
      ]
     },
     "execution_count": 14,
     "metadata": {},
     "output_type": "execute_result"
    }
   ],
   "source": [
    "@benchmark brute_search(data, queries, 5, Euclidean())"
   ]
  },
  {
   "cell_type": "code",
   "execution_count": null,
   "metadata": {},
   "outputs": [],
   "source": []
  }
 ],
 "metadata": {
  "kernelspec": {
   "display_name": "Julia 1.0.2",
   "language": "julia",
   "name": "julia-1.0"
  },
  "language_info": {
   "file_extension": ".jl",
   "mimetype": "application/julia",
   "name": "julia",
   "version": "1.0.2"
  }
 },
 "nbformat": 4,
 "nbformat_minor": 2
}
