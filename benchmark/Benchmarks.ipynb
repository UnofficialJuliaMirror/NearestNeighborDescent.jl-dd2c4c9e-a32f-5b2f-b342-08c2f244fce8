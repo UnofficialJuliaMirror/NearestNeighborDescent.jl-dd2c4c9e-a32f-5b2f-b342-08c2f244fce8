{
 "cells": [
  {
   "cell_type": "code",
   "execution_count": 1,
   "metadata": {},
   "outputs": [],
   "source": [
    "using BenchmarkTools\n",
    "using Distances\n",
    "using MLDatasets\n",
    "using NearestNeighborDescent\n",
    "using NearestNeighborDescent: brute_knn, brute_search"
   ]
  },
  {
   "cell_type": "code",
   "execution_count": 2,
   "metadata": {},
   "outputs": [
    {
     "data": {
      "text/plain": [
       "_recall (generic function with 1 method)"
      ]
     },
     "execution_count": 2,
     "metadata": {},
     "output_type": "execute_result"
    }
   ],
   "source": [
    "recall(nn, true_nn) = sum(_recall(nn[:,i], true_nn[:,i]) for i in 1:size(nn,2))/size(nn,2)\n",
    "_recall(π, πₜ) = length(intersect(π, πₜ))/length(πₜ)"
   ]
  },
  {
   "cell_type": "code",
   "execution_count": 3,
   "metadata": {},
   "outputs": [
    {
     "data": {
      "text/plain": [
       "get_fmnist (generic function with 1 method)"
      ]
     },
     "execution_count": 3,
     "metadata": {},
     "output_type": "execute_result"
    }
   ],
   "source": [
    "function get_fmnist()\n",
    "    train_x, train_y = FashionMNIST.traindata()\n",
    "    test_x, test_y = FashionMNIST.testdata()\n",
    "    train_x = reshape(train_x, size(train_x)[1]*size(train_x)[2], size(train_x)[3])\n",
    "    test_x = reshape(test_x, size(test_x)[1]*size(test_x)[2], size(test_x)[3])\n",
    "\n",
    "    data = [convert.(Float32, train_x[:,i]) for i = 1:size(train_x, 2)]\n",
    "    data = data[1:5000]\n",
    "    queries = [convert.(Float32, test_x[:,i]) for i = 1:size(test_x, 2)]\n",
    "    queries = queries[1:500]\n",
    "    return data, queries\n",
    "end"
   ]
  },
  {
   "cell_type": "code",
   "execution_count": 4,
   "metadata": {},
   "outputs": [
    {
     "data": {
      "text/plain": [
       "bmark (generic function with 1 method)"
      ]
     },
     "execution_count": 4,
     "metadata": {},
     "output_type": "execute_result"
    }
   ],
   "source": [
    "function bmark(name, data, queries, metric)\n",
    "    @show name\n",
    "    knn_graph = DescentGraph(data, 10, metric)\n",
    "    nn = getindex.(knn_graph.graph, 1)\n",
    "    brute_graph = brute_knn(data, metric, 10)\n",
    "    true_nn = getindex.(brute_graph, 1)\n",
    "    @show recall(nn, true_nn)\n",
    "    true_idx, true_dist = brute_search(data, queries, 10, metric)\n",
    "    idx, dist = search(knn_graph, queries, 10, 70)\n",
    "    @show recall(idx, true_idx)\n",
    "    q_per_sec = length(queries)/(@belapsed search($knn_graph, $queries, 10, 70))\n",
    "    @show q_per_sec\n",
    "end"
   ]
  },
  {
   "cell_type": "code",
   "execution_count": 5,
   "metadata": {},
   "outputs": [
    {
     "name": "stdout",
     "output_type": "stream",
     "text": [
      "name = \"Fashion MNIST\"\n",
      "recall(nn, true_nn) = 0.9966799999999998\n",
      "recall(idx, true_idx) = 0.9099999999999993\n",
      "q_per_sec = 306.35653137860936\n"
     ]
    },
    {
     "data": {
      "text/plain": [
       "306.35653137860936"
      ]
     },
     "execution_count": 5,
     "metadata": {},
     "output_type": "execute_result"
    }
   ],
   "source": [
    "fm_data, fm_queries = get_fmnist()\n",
    "bmark(\"Fashion MNIST\", fm_data, fm_queries, Euclidean())"
   ]
  },
  {
   "cell_type": "code",
   "execution_count": 6,
   "metadata": {},
   "outputs": [
    {
     "name": "stdout",
     "output_type": "stream",
     "text": [
      "name = \"Cosine Random\"\n",
      "recall(nn, true_nn) = 0.6454999999999979\n",
      "recall(idx, true_idx) = 0.8749999999999991\n",
      "q_per_sec = 192.44264434039687\n"
     ]
    },
    {
     "data": {
      "text/plain": [
       "192.44264434039687"
      ]
     },
     "execution_count": 6,
     "metadata": {},
     "output_type": "execute_result"
    }
   ],
   "source": [
    "# Cosine Tests \n",
    "rn_data = [rand(800) for _ in 1:5000]\n",
    "rn_queries = [rand(800) for _ in 1:500]\n",
    "bmark(\"Cosine Random\", rn_data, rn_queries, CosineDist())"
   ]
  },
  {
   "cell_type": "code",
   "execution_count": 7,
   "metadata": {},
   "outputs": [
    {
     "name": "stdout",
     "output_type": "stream",
     "text": [
      "name = \"Hamming Random\"\n",
      "recall(nn, true_nn) = 0.13036000000000472\n",
      "recall(idx, true_idx) = 0.8429999999999988\n",
      "q_per_sec = 193.82943617775595\n"
     ]
    },
    {
     "data": {
      "text/plain": [
       "193.82943617775595"
      ]
     },
     "execution_count": 7,
     "metadata": {},
     "output_type": "execute_result"
    }
   ],
   "source": [
    "# Hamming Tests\n",
    "ham_data = [rand([0, 1], 800) for _ in 1:5000]\n",
    "ham_queries = [rand([0, 1], 800) for _ in 1:500]\n",
    "bmark(\"Hamming Random\", ham_data, ham_queries, Hamming())"
   ]
  },
  {
   "cell_type": "code",
   "execution_count": null,
   "metadata": {},
   "outputs": [],
   "source": []
  }
 ],
 "metadata": {
  "kernelspec": {
   "display_name": "Julia 1.0.2",
   "language": "julia",
   "name": "julia-1.0"
  },
  "language_info": {
   "file_extension": ".jl",
   "mimetype": "application/julia",
   "name": "julia",
   "version": "1.0.2"
  }
 },
 "nbformat": 4,
 "nbformat_minor": 2
}
