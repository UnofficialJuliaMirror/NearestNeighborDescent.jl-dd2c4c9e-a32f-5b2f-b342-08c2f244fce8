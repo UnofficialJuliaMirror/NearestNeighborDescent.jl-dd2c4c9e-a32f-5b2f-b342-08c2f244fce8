{
 "cells": [
  {
   "cell_type": "code",
   "execution_count": 1,
   "metadata": {},
   "outputs": [],
   "source": [
    "using BenchmarkTools\n",
    "using Distances\n",
    "using NearestNeighborDescent\n",
    "using NearestNeighborDescent: brute_knn, brute_search\n",
    "using PyCall\n",
    "@pyimport pynndescent"
   ]
  },
  {
   "cell_type": "code",
   "execution_count": 2,
   "metadata": {},
   "outputs": [],
   "source": [
    "include(\"./benchutils.jl\");"
   ]
  },
  {
   "cell_type": "code",
   "execution_count": 3,
   "metadata": {},
   "outputs": [
    {
     "data": {
      "text/plain": [
       "bmark (generic function with 1 method)"
      ]
     },
     "execution_count": 3,
     "metadata": {},
     "output_type": "execute_result"
    }
   ],
   "source": [
    "function bmark(name, data, queries, metric)\n",
    "    print(name, \"\\n\")\n",
    "    print(\"Graph construction: \")\n",
    "    knn_graph = @btime DescentGraph($data, 10, $metric)\n",
    "    nn = getindex.(knn_graph.graph, 1)\n",
    "    brute_graph = brute_knn(data, metric, 10)\n",
    "    true_nn = getindex.(brute_graph, 1)\n",
    "    @show recall(nn, true_nn)\n",
    "    true_idx, true_dist = brute_search(data, queries, 10, metric)\n",
    "    idx, dist = search(knn_graph, queries, 10, 5)\n",
    "    @show recall(idx, true_idx)\n",
    "    q_per_sec = length(queries)/(@belapsed search($knn_graph, $queries, 10, 10))\n",
    "    @show q_per_sec\n",
    "    if metric == Euclidean()\n",
    "        pynn_metric = \"euclidean\"\n",
    "    elseif metric == CosineDist()\n",
    "        pynn_metric = \"cosine\"\n",
    "    elseif metric == Hamming()\n",
    "        pynn_metric = \"hamming\"\n",
    "    end\n",
    "    print(\"pynn descent: \")\n",
    "    matrix_data = permutedims(hcat(data...))\n",
    "    pynn_graph = @btime pynndescent.NNDescent($matrix_data, n_neighbors=10, metric=$pynn_metric)\n",
    "    pynn_nn = permutedims(pynn_graph[:_neighbor_graph][1]) .+ 1\n",
    "    @show recall(pynn_nn, true_nn)\n",
    "    matrix_queries = permutedims(hcat(queries...))\n",
    "    pynn_idx, pynn_dists = pynn_graph[:query](matrix_queries, k=10)\n",
    "    pynn_idx = permutedims(pynn_idx) .+ 1\n",
    "    @show recall(pynn_idx, true_idx)\n",
    "    pynn_q_per_sec = length(queries) / (@belapsed $(pynn_graph)[:query]($matrix_queries, k=10))\n",
    "    @show pynn_q_per_sec\n",
    "    return\n",
    "end"
   ]
  },
  {
   "cell_type": "code",
   "execution_count": 4,
   "metadata": {},
   "outputs": [
    {
     "name": "stdout",
     "output_type": "stream",
     "text": [
      "Fashion MNIST\n",
      "Graph construction:   1.133 s (10389727 allocations: 505.43 MiB)\n",
      "recall(nn, true_nn) = 0.9970799999999997\n",
      "recall(idx, true_idx) = 0.6959999999999997\n",
      "q_per_sec = 2022.47412892555\n",
      "pynn descent:   2.277 s (48 allocations: 2.39 KiB)\n",
      "recall(pynn_nn, true_nn) = 0.897660000000027\n",
      "recall(pynn_idx, true_idx) = 0.9986\n",
      "pynn_q_per_sec = 5222.769830799597\n"
     ]
    }
   ],
   "source": [
    "bmark(\"Fashion MNIST\", FMNIST_data, FMNIST_queries, Euclidean())"
   ]
  },
  {
   "cell_type": "code",
   "execution_count": 5,
   "metadata": {},
   "outputs": [
    {
     "name": "stdout",
     "output_type": "stream",
     "text": [
      "MNIST\n",
      "Graph construction:   1.111 s (9989009 allocations: 506.91 MiB)\n",
      "recall(nn, true_nn) = 0.9871200000000001\n",
      "recall(idx, true_idx) = 0.6648\n",
      "q_per_sec = 2018.416907823082\n",
      "pynn descent:   2.243 s (48 allocations: 2.39 KiB)\n",
      "recall(pynn_nn, true_nn) = 0.8927200000000295\n",
      "recall(pynn_idx, true_idx) = 0.9933999999999994\n",
      "pynn_q_per_sec = 5160.41064236028\n"
     ]
    }
   ],
   "source": [
    "bmark(\"MNIST\", MNIST_data, MNIST_queries, Euclidean())"
   ]
  },
  {
   "cell_type": "code",
   "execution_count": 6,
   "metadata": {},
   "outputs": [
    {
     "name": "stdout",
     "output_type": "stream",
     "text": [
      "Cosine Random\n",
      "Graph construction:   1.690 s (21178989 allocations: 790.00 MiB)\n",
      "recall(nn, true_nn) = 0.7514400000000074\n",
      "recall(idx, true_idx) = 0.5402000000000001\n",
      "q_per_sec = 1877.495224008874\n",
      "pynn descent:   1.339 s (48 allocations: 2.39 KiB)\n",
      "recall(pynn_nn, true_nn) = 0.4788200000000019\n",
      "recall(pynn_idx, true_idx) = 0.7752\n",
      "pynn_q_per_sec = 9763.76454517768\n"
     ]
    }
   ],
   "source": [
    "# Cosine Tests \n",
    "bmark(\"Cosine Random\", rand_data, rand_queries, CosineDist())"
   ]
  },
  {
   "cell_type": "code",
   "execution_count": 8,
   "metadata": {},
   "outputs": [
    {
     "name": "stdout",
     "output_type": "stream",
     "text": [
      "Hamming Random\n",
      "Graph construction:   920.150 ms (6863274 allocations: 454.60 MiB)\n",
      "recall(nn, true_nn) = 0.12552000000000418\n",
      "recall(idx, true_idx) = 0.1520000000000003\n",
      "q_per_sec = 1192.6602637825788\n",
      "pynn descent:   5.949 s (48 allocations: 2.39 KiB)\n",
      "recall(pynn_nn, true_nn) = 0.10358000000000243\n",
      "recall(pynn_idx, true_idx) = 0.17339999999999986\n",
      "pynn_q_per_sec = 1059.547378524562\n"
     ]
    }
   ],
   "source": [
    "# Hamming Tests\n",
    "bmark(\"Hamming Random\", ham_data, ham_queries, Hamming())"
   ]
  },
  {
   "cell_type": "code",
   "execution_count": null,
   "metadata": {},
   "outputs": [],
   "source": []
  }
 ],
 "metadata": {
  "kernelspec": {
   "display_name": "Julia 1.0.2",
   "language": "julia",
   "name": "julia-1.0"
  },
  "language_info": {
   "file_extension": ".jl",
   "mimetype": "application/julia",
   "name": "julia",
   "version": "1.0.2"
  }
 },
 "nbformat": 4,
 "nbformat_minor": 2
}
