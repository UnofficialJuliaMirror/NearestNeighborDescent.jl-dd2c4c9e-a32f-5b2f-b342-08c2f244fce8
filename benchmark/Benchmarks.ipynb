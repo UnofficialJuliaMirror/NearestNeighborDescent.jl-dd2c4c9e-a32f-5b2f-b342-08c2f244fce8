{
 "cells": [
  {
   "cell_type": "code",
   "execution_count": 1,
   "metadata": {},
   "outputs": [],
   "source": [
    "using BenchmarkTools\n",
    "using Distances\n",
    "using MLDatasets\n",
    "using NNDescent\n",
    "using NNDescent: brute_knn, brute_search, NNTuple"
   ]
  },
  {
   "cell_type": "code",
   "execution_count": 2,
   "metadata": {},
   "outputs": [
    {
     "data": {
      "text/plain": [
       "_recall (generic function with 1 method)"
      ]
     },
     "execution_count": 2,
     "metadata": {},
     "output_type": "execute_result"
    }
   ],
   "source": [
    "recall(nn, true_nn) = sum(_recall(nn[:,i], true_nn[:,i]) for i in 1:size(nn,2))/size(nn,2)\n",
    "_recall(π, πₜ) = length(intersect(π, πₜ))/length(πₜ)"
   ]
  },
  {
   "cell_type": "code",
   "execution_count": 3,
   "metadata": {},
   "outputs": [],
   "source": [
    "train_x, train_y = FashionMNIST.traindata()\n",
    "test_x, test_y = FashionMNIST.testdata()\n",
    "train_x = reshape(train_x, size(train_x)[1]*size(train_x)[2], size(train_x)[3])\n",
    "test_x = reshape(test_x, size(test_x)[1]*size(test_x)[2], size(test_x)[3])\n",
    "\n",
    "data = [convert.(Float32, train_x[:,i]) for i = 1:size(train_x, 2)]\n",
    "data = data[1:5000]\n",
    "queries = [convert.(Float32, test_x[:,i]) for i = 1:size(test_x, 2)]\n",
    "queries = queries[1:500];"
   ]
  },
  {
   "cell_type": "code",
   "execution_count": 4,
   "metadata": {},
   "outputs": [],
   "source": [
    "knn_graph = DescentGraph(data, 10)\n",
    "nn = getindex.(knn_graph.graph, 1);"
   ]
  },
  {
   "cell_type": "code",
   "execution_count": 5,
   "metadata": {},
   "outputs": [],
   "source": [
    "brute_graph = brute_knn(data, Euclidean(), 10)\n",
    "true_nn = getindex.(brute_graph, 1);"
   ]
  },
  {
   "cell_type": "code",
   "execution_count": 6,
   "metadata": {},
   "outputs": [
    {
     "data": {
      "text/plain": [
       "0.99744"
      ]
     },
     "execution_count": 6,
     "metadata": {},
     "output_type": "execute_result"
    }
   ],
   "source": [
    "recall(nn, true_nn)"
   ]
  },
  {
   "cell_type": "code",
   "execution_count": 7,
   "metadata": {},
   "outputs": [],
   "source": [
    "true_idx, true_dist = brute_search(data, queries, 10, Euclidean());"
   ]
  },
  {
   "cell_type": "code",
   "execution_count": 8,
   "metadata": {},
   "outputs": [],
   "source": [
    "idx, dist = search(knn_graph, queries, 10, 70);"
   ]
  },
  {
   "cell_type": "code",
   "execution_count": 9,
   "metadata": {},
   "outputs": [
    {
     "data": {
      "text/plain": [
       "0.9069999999999993"
      ]
     },
     "execution_count": 9,
     "metadata": {},
     "output_type": "execute_result"
    }
   ],
   "source": [
    "recall(idx, true_idx)"
   ]
  },
  {
   "cell_type": "code",
   "execution_count": 10,
   "metadata": {},
   "outputs": [
    {
     "data": {
      "text/plain": [
       "115.55161439093644"
      ]
     },
     "execution_count": 10,
     "metadata": {},
     "output_type": "execute_result"
    }
   ],
   "source": [
    "q_per_sec = length(queries)/(@belapsed search(knn_graph, queries, 10, 70))"
   ]
  },
  {
   "cell_type": "code",
   "execution_count": 11,
   "metadata": {},
   "outputs": [
    {
     "data": {
      "text/plain": [
       "BenchmarkTools.Trial: \n",
       "  memory estimate:  505.76 MiB\n",
       "  allocs estimate:  10403588\n",
       "  --------------\n",
       "  minimum time:     994.717 ms (12.30% GC)\n",
       "  median time:      1.038 s (14.30% GC)\n",
       "  mean time:        1.040 s (15.08% GC)\n",
       "  maximum time:     1.098 s (18.06% GC)\n",
       "  --------------\n",
       "  samples:          5\n",
       "  evals/sample:     1"
      ]
     },
     "execution_count": 11,
     "metadata": {},
     "output_type": "execute_result"
    }
   ],
   "source": [
    "@benchmark DescentGraph(data, 10)"
   ]
  },
  {
   "cell_type": "code",
   "execution_count": 12,
   "metadata": {},
   "outputs": [
    {
     "data": {
      "text/plain": [
       "BenchmarkTools.Trial: \n",
       "  memory estimate:  3.09 GiB\n",
       "  allocs estimate:  28727345\n",
       "  --------------\n",
       "  minimum time:     4.448 s (8.51% GC)\n",
       "  median time:      4.487 s (9.38% GC)\n",
       "  mean time:        4.487 s (9.38% GC)\n",
       "  maximum time:     4.527 s (10.23% GC)\n",
       "  --------------\n",
       "  samples:          2\n",
       "  evals/sample:     1"
      ]
     },
     "execution_count": 12,
     "metadata": {},
     "output_type": "execute_result"
    }
   ],
   "source": [
    "@benchmark search(knn_graph, queries, 10, 70)"
   ]
  },
  {
   "cell_type": "code",
   "execution_count": null,
   "metadata": {},
   "outputs": [],
   "source": []
  }
 ],
 "metadata": {
  "kernelspec": {
   "display_name": "Julia 1.0.2",
   "language": "julia",
   "name": "julia-1.0"
  },
  "language_info": {
   "file_extension": ".jl",
   "mimetype": "application/julia",
   "name": "julia",
   "version": "1.0.2"
  }
 },
 "nbformat": 4,
 "nbformat_minor": 2
}
