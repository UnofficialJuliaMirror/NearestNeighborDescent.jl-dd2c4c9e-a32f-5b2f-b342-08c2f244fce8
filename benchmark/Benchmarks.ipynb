{
 "cells": [
  {
   "cell_type": "code",
   "execution_count": 1,
   "metadata": {},
   "outputs": [],
   "source": [
    "using BenchmarkTools\n",
    "using Distances\n",
    "using MLDatasets\n",
    "using NNDescent\n",
    "using NNDescent: brute_knn, brute_search, NNTuple"
   ]
  },
  {
   "cell_type": "code",
   "execution_count": 2,
   "metadata": {},
   "outputs": [
    {
     "data": {
      "text/plain": [
       "_recall (generic function with 1 method)"
      ]
     },
     "execution_count": 2,
     "metadata": {},
     "output_type": "execute_result"
    }
   ],
   "source": [
    "recall(nn, true_nn) = sum(_recall(nn[:,i], true_nn[:,i]) for i in 1:size(nn,2))/size(nn,2)\n",
    "_recall(π, πₜ) = length(intersect(π, πₜ))/length(πₜ)"
   ]
  },
  {
   "cell_type": "code",
   "execution_count": 3,
   "metadata": {},
   "outputs": [],
   "source": [
    "train_x, train_y = FashionMNIST.traindata()\n",
    "test_x, test_y = FashionMNIST.testdata()\n",
    "train_x = reshape(train_x, size(train_x)[1]*size(train_x)[2], size(train_x)[3])\n",
    "test_x = reshape(test_x, size(test_x)[1]*size(test_x)[2], size(test_x)[3])\n",
    "\n",
    "data = [convert.(Float32, train_x[:,i]) for i = 1:size(train_x, 2)]\n",
    "data = data[1:5000]\n",
    "queries = [convert.(Float32, test_x[:,i]) for i = 1:size(test_x, 2)]\n",
    "queries = queries[1:500];"
   ]
  },
  {
   "cell_type": "code",
   "execution_count": 4,
   "metadata": {},
   "outputs": [],
   "source": [
    "knn_graph = DescentGraph(data, 10)\n",
    "nn = getindex.(knn_graph.graph, 1);"
   ]
  },
  {
   "cell_type": "code",
   "execution_count": 5,
   "metadata": {},
   "outputs": [],
   "source": [
    "brute_graph = brute_knn(data, Euclidean(), 10)\n",
    "true_nn = getindex.(brute_graph, 1);"
   ]
  },
  {
   "cell_type": "code",
   "execution_count": 6,
   "metadata": {},
   "outputs": [
    {
     "data": {
      "text/plain": [
       "0.9967400000000002"
      ]
     },
     "execution_count": 6,
     "metadata": {},
     "output_type": "execute_result"
    }
   ],
   "source": [
    "recall(nn, true_nn)"
   ]
  },
  {
   "cell_type": "code",
   "execution_count": 7,
   "metadata": {},
   "outputs": [],
   "source": [
    "true_idx, true_dist = brute_search(data, queries, 5, Euclidean());"
   ]
  },
  {
   "cell_type": "code",
   "execution_count": 8,
   "metadata": {},
   "outputs": [],
   "source": [
    "idx, dist = search(knn_graph, queries, 5, 10);"
   ]
  },
  {
   "cell_type": "code",
   "execution_count": 9,
   "metadata": {},
   "outputs": [
    {
     "data": {
      "text/plain": [
       "0.6680000000000005"
      ]
     },
     "execution_count": 9,
     "metadata": {},
     "output_type": "execute_result"
    }
   ],
   "source": [
    "recall(idx, true_idx)"
   ]
  },
  {
   "cell_type": "code",
   "execution_count": 10,
   "metadata": {},
   "outputs": [
    {
     "data": {
      "text/plain": [
       "2320.4369650119456"
      ]
     },
     "execution_count": 10,
     "metadata": {},
     "output_type": "execute_result"
    }
   ],
   "source": [
    "q_per_sec = length(queries)/(@belapsed search(knn_graph, queries, 5, 10))"
   ]
  },
  {
   "cell_type": "code",
   "execution_count": 22,
   "metadata": {},
   "outputs": [
    {
     "name": "stdout",
     "output_type": "stream",
     "text": [
      "4     ./sort.jl:452; sort!(::Array{NNTuple{Int64,Float...\n",
      "15    ./sort.jl:465; sort!(::Array{NNTuple{Int64,Float...\n",
      "18    ./sort.jl:544; sort!(::Array{NNTuple{Int64,Float...\n",
      "1     ./sort.jl:548; sort!(::Array{NNTuple{Int64,Float...\n",
      "5     ./sort.jl:578; sort!(::Array{NNTuple{Int64,Float...\n",
      "11760 ./task.jl:259; (::getfield(IJulia, Symbol(\"##12#...\n",
      " 11760 ...L02A/src/eventloop.jl:8; eventloop(::ZMQ.Socket)\n",
      "  11760 ./essentials.jl:696; invokelatest\n",
      "   11760 ./essentials.jl:697; #invokelatest#1\n",
      "    11760 ...c/execute_request.jl:65; execute_request(::ZMQ.Socket, :...\n",
      "     11760 .../SoftGlobalScope.jl:206; softscope_include_string(::Mod...\n",
      "      11760 ./boot.jl:319; eval\n",
      "       11760 ./In[22]:3; top-level scope\n",
      "        11760 ...ile/src/Profile.jl:25; macro expansion\n",
      "         5996 .../src/nn_descent.jl:133; search(::DescentGraph{Array{...\n",
      "          5968 ...src/nn_descent.jl:161; unexpanded(::DataStructures....\n",
      "           2022 ./array.jl:2352; filter\n",
      "            1866 ./abstractset.jl:336; mapfilter(::getfield(NNDesc...\n",
      "             301  ./array.jl:707; iterate\n",
      "              132 ./array.jl:731; getindex\n",
      "              143 ./array.jl:199; length\n",
      "             1091 ./array.jl:856; push!\n",
      "              1091 ./array.jl:814; _growend!\n",
      "             120  ./array.jl:857; push!\n",
      "              28 ./abstractarray.jl:249; lastindex\n",
      "               28 ./abstractarray.jl:214; eachindex\n",
      "                28 ./abstractarray.jl:93; axes1\n",
      "                 24 ./abstractarray.jl:75; axes\n",
      "                  24 ./array.jl:155; size\n",
      "              92 ./array.jl:769; setindex!\n",
      "           3945 ./sort.jl:747; sort\n",
      "            3945 ./sort.jl:747; #sort#8\n",
      "             397  ./abstractarray.jl:823; copymutable\n",
      "              386 ./array.jl:327; similar\n",
      "               385 ./boot.jl:394; Type\n",
      "             3548 ./sort.jl:687; sort!\n",
      "              3548 ./sort.jl:699; #sort!#7\n",
      "               3547 ./sort.jl:639; sort!\n",
      "                3547 ./sort.jl:544; sort!\n",
      "                 134  ./sort.jl:548; sort!(::Array{NNTuple{In...\n",
      "                  134 ./array.jl:1006; resize!\n",
      "                   134 ./array.jl:814; _growend!\n",
      "                 1367 ./sort.jl:550; sort!(::Array{NNTuple{In...\n",
      "                  560 ./sort.jl:550; sort!(::Array{NNTuple{In...\n",
      "                   206 ./sort.jl:550; sort!(::Array{NNTuple{I...\n",
      "                    82 ./sort.jl:550; sort!(::Array{NNTuple{I...\n",
      "                    64 ./sort.jl:551; sort!(::Array{NNTuple{I...\n",
      "                   230 ./sort.jl:551; sort!(::Array{NNTuple{I...\n",
      "                    31 ./sort.jl:545; sort!(::Array{NNTuple{I...\n",
      "                    79 ./sort.jl:550; sort!(::Array{NNTuple{I...\n",
      "                    63 ./sort.jl:551; sort!(::Array{NNTuple{I...\n",
      "                   48  ./sort.jl:562; sort!(::Array{NNTuple{I...\n",
      "                    26 ./ordering.jl:49; lt\n",
      "                  599 ./sort.jl:551; sort!(::Array{NNTuple{In...\n",
      "                   247 ./sort.jl:550; sort!(::Array{NNTuple{I...\n",
      "                    77 ./sort.jl:550; sort!(::Array{NNTuple{I...\n",
      "                    86 ./sort.jl:551; sort!(::Array{NNTuple{I...\n",
      "                   204 ./sort.jl:551; sort!(::Array{NNTuple{I...\n",
      "                    61 ./sort.jl:550; sort!(::Array{NNTuple{I...\n",
      "                    73 ./sort.jl:551; sort!(::Array{NNTuple{I...\n",
      "                   64  ./sort.jl:562; sort!(::Array{NNTuple{I...\n",
      "                    33 ./ordering.jl:49; lt\n",
      "                  94  ./sort.jl:562; sort!(::Array{NNTuple{In...\n",
      "                   19 ./array.jl:731; getindex\n",
      "                   54 ./ordering.jl:49; lt\n",
      "                    54 ...mc/src/utils.jl:12; isless\n",
      "                 1558 ./sort.jl:551; sort!(::Array{NNTuple{In...\n",
      "                  637 ./sort.jl:550; sort!(::Array{NNTuple{In...\n",
      "                   243 ./sort.jl:550; sort!(::Array{NNTuple{I...\n",
      "                    86 ./sort.jl:550; sort!(::Array{NNTuple{I...\n",
      "                    67 ./sort.jl:551; sort!(::Array{NNTuple{I...\n",
      "                   253 ./sort.jl:551; sort!(::Array{NNTuple{I...\n",
      "                    87 ./sort.jl:550; sort!(::Array{NNTuple{I...\n",
      "                    87 ./sort.jl:551; sort!(::Array{NNTuple{I...\n",
      "                   62  ./sort.jl:562; sort!(::Array{NNTuple{I...\n",
      "                    33 ./ordering.jl:49; lt\n",
      "                  622 ./sort.jl:551; sort!(::Array{NNTuple{In...\n",
      "                   243 ./sort.jl:550; sort!(::Array{NNTuple{I...\n",
      "                    77 ./sort.jl:550; sort!(::Array{NNTuple{I...\n",
      "                    94 ./sort.jl:551; sort!(::Array{NNTuple{I...\n",
      "                   220 ./sort.jl:551; sort!(::Array{NNTuple{I...\n",
      "                    32 ./sort.jl:545; sort!(::Array{NNTuple{I...\n",
      "                    75 ./sort.jl:550; sort!(::Array{NNTuple{I...\n",
      "                    63 ./sort.jl:551; sort!(::Array{NNTuple{I...\n",
      "                   67  ./sort.jl:562; sort!(::Array{NNTuple{I...\n",
      "                    16 ./array.jl:731; getindex\n",
      "                    29 ./ordering.jl:49; lt\n",
      "                  139 ./sort.jl:562; sort!(::Array{NNTuple{In...\n",
      "                   23 ./array.jl:731; getindex\n",
      "                   78 ./ordering.jl:49; lt\n",
      "                    78 ...mc/src/utils.jl:12; isless\n",
      "                 179  ./sort.jl:562; sort!(::Array{NNTuple{In...\n",
      "                  27 ./array.jl:731; getindex\n",
      "                  98 ./ordering.jl:49; lt\n",
      "                   98 ...mc/src/utils.jl:12; isless\n",
      "                    98 ...mc/src/utils.jl:11; <\n",
      "         806  .../src/nn_descent.jl:141; search(::DescentGraph{Array{...\n",
      "          490 ./abstractarray.jl:905; getindex\n",
      "           122 ./essentials.jl:173; to_indices\n",
      "           231 ./indices.jl:289; to_indices\n",
      "            230 ...ltidimensional.jl:581; to_indices\n",
      "           82  ...ltidimensional.jl:597; _getindex(::IndexLinear, ::A...\n",
      "            41 ...ltidimensional.jl:609; _unsafe_getindex(::IndexLine...\n",
      "             41 ./abstractarray.jl:573; similar\n",
      "              41 ./array.jl:332; similar\n",
      "               41 ./boot.jl:403; Type\n",
      "                41 ./boot.jl:394; Type\n",
      "            40 ...ltidimensional.jl:611; _unsafe_getindex(::IndexLine...\n",
      "             40 ...ltidimensional.jl:617; _unsafe_getindex!\n",
      "              40 ...ltidimensional.jl:621; macro expansion\n",
      "               40 ./cartesian.jl:64; macro expansion\n",
      "                40 ...tidimensional.jl:626; macro expansion\n",
      "                 40 ./array.jl:769; setindex!\n",
      "         1493 .../src/nn_descent.jl:142; search(::DescentGraph{Array{...\n",
      "          237 ./tuple.jl:24; getindex(::Tuple{Int64,Float...\n",
      "          765 ...AdT/src/metrics.jl:160; evaluate(::Euclidean, ::Arra...\n",
      "           722 ./simdloop.jl:73; macro expansion\n",
      "            73  ./float.jl:394; macro expansion\n",
      "            483 ./float.jl:396; macro expansion\n",
      "            114 ...dT/src/metrics.jl:163; macro expansion\n",
      "             101 ...dT/src/metrics.jl:211; eval_reduce\n",
      "              101 ./float.jl:394; +\n",
      "         3256 .../src/nn_descent.jl:143; search(::DescentGraph{Array{...\n",
      "          195  ./tuple.jl:24; getindex(::Tuple{Int64,Float...\n",
      "          1871 ...src/nn_descent.jl:175; _heappush!(::DataStructures....\n",
      "           619  ./logging.jl:311; macro expansion\n",
      "            619 ...src/nn_descent.jl:229; _check_tuple\n",
      "             619 ./array.jl:731; getindex\n",
      "           1038 ./logging.jl:316; macro expansion\n",
      "           145  ./logging.jl:317; macro expansion\n",
      "          127  ...Jymc/src/utils.jl:5; NNTuple(::Int64, ::Float32, ...\n",
      "           125 ...TJymc/src/utils.jl:5; Type\n"
     ]
    }
   ],
   "source": [
    "using Profile\n",
    "Profile.clear()\n",
    "@profile search(knn_graph, queries, 10, 100)\n",
    "Profile.print(combine=true,maxdepth=20,noisefloor=2.0)"
   ]
  },
  {
   "cell_type": "code",
   "execution_count": 12,
   "metadata": {},
   "outputs": [
    {
     "data": {
      "text/plain": [
       "BenchmarkTools.Trial: \n",
       "  memory estimate:  533.45 MiB\n",
       "  allocs estimate:  11895303\n",
       "  --------------\n",
       "  minimum time:     1.041 s (12.05% GC)\n",
       "  median time:      1.079 s (13.88% GC)\n",
       "  mean time:        1.078 s (14.61% GC)\n",
       "  maximum time:     1.125 s (17.45% GC)\n",
       "  --------------\n",
       "  samples:          5\n",
       "  evals/sample:     1"
      ]
     },
     "execution_count": 12,
     "metadata": {},
     "output_type": "execute_result"
    }
   ],
   "source": [
    "@benchmark DescentGraph(data, 10)"
   ]
  },
  {
   "cell_type": "code",
   "execution_count": 13,
   "metadata": {},
   "outputs": [
    {
     "data": {
      "text/plain": [
       "BenchmarkTools.Trial: \n",
       "  memory estimate:  261.09 MiB\n",
       "  allocs estimate:  6421635\n",
       "  --------------\n",
       "  minimum time:     454.121 ms (6.97% GC)\n",
       "  median time:      478.940 ms (10.80% GC)\n",
       "  mean time:        477.467 ms (10.46% GC)\n",
       "  maximum time:     500.144 ms (12.10% GC)\n",
       "  --------------\n",
       "  samples:          11\n",
       "  evals/sample:     1"
      ]
     },
     "execution_count": 13,
     "metadata": {},
     "output_type": "execute_result"
    }
   ],
   "source": [
    "@benchmark search(knn_graph, queries, 5, 20)"
   ]
  },
  {
   "cell_type": "code",
   "execution_count": 14,
   "metadata": {},
   "outputs": [
    {
     "data": {
      "text/plain": [
       "BenchmarkTools.Trial: \n",
       "  memory estimate:  1.98 GiB\n",
       "  allocs estimate:  70208364\n",
       "  --------------\n",
       "  minimum time:     8.502 s (10.16% GC)\n",
       "  median time:      8.502 s (10.16% GC)\n",
       "  mean time:        8.502 s (10.16% GC)\n",
       "  maximum time:     8.502 s (10.16% GC)\n",
       "  --------------\n",
       "  samples:          1\n",
       "  evals/sample:     1"
      ]
     },
     "execution_count": 14,
     "metadata": {},
     "output_type": "execute_result"
    }
   ],
   "source": [
    "@benchmark brute_knn(data, Euclidean(), 10)"
   ]
  },
  {
   "cell_type": "code",
   "execution_count": 15,
   "metadata": {},
   "outputs": [
    {
     "data": {
      "text/plain": [
       "BenchmarkTools.Trial: \n",
       "  memory estimate:  151.08 MiB\n",
       "  allocs estimate:  4799945\n",
       "  --------------\n",
       "  minimum time:     719.649 ms (10.73% GC)\n",
       "  median time:      755.787 ms (17.22% GC)\n",
       "  mean time:        752.226 ms (16.47% GC)\n",
       "  maximum time:     766.788 ms (18.17% GC)\n",
       "  --------------\n",
       "  samples:          7\n",
       "  evals/sample:     1"
      ]
     },
     "execution_count": 15,
     "metadata": {},
     "output_type": "execute_result"
    }
   ],
   "source": [
    "@benchmark brute_search(data, queries, 5, Euclidean())"
   ]
  },
  {
   "cell_type": "code",
   "execution_count": null,
   "metadata": {},
   "outputs": [],
   "source": []
  }
 ],
 "metadata": {
  "kernelspec": {
   "display_name": "Julia 1.0.2",
   "language": "julia",
   "name": "julia-1.0"
  },
  "language_info": {
   "file_extension": ".jl",
   "mimetype": "application/julia",
   "name": "julia",
   "version": "1.0.2"
  }
 },
 "nbformat": 4,
 "nbformat_minor": 2
}
