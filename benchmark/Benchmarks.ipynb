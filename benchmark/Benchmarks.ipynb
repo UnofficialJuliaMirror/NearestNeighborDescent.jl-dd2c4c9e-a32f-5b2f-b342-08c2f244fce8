{
 "cells": [
  {
   "cell_type": "code",
   "execution_count": 1,
   "metadata": {},
   "outputs": [],
   "source": [
    "using BenchmarkTools\n",
    "using Distances\n",
    "using MLDatasets\n",
    "using NNDescent\n",
    "using NNDescent: brute_knn, brute_search, NNTuple"
   ]
  },
  {
   "cell_type": "code",
   "execution_count": 2,
   "metadata": {},
   "outputs": [
    {
     "data": {
      "text/plain": [
       "_recall (generic function with 1 method)"
      ]
     },
     "execution_count": 2,
     "metadata": {},
     "output_type": "execute_result"
    }
   ],
   "source": [
    "recall(nn, true_nn) = sum(_recall(nn[:,i], true_nn[:,i]) for i in 1:size(nn,2))/size(nn,2)\n",
    "_recall(π, πₜ) = length(intersect(π, πₜ))/length(πₜ)"
   ]
  },
  {
   "cell_type": "code",
   "execution_count": 3,
   "metadata": {},
   "outputs": [],
   "source": [
    "train_x, train_y = FashionMNIST.traindata()\n",
    "test_x, test_y = FashionMNIST.testdata()\n",
    "train_x = reshape(train_x, size(train_x)[1]*size(train_x)[2], size(train_x)[3])\n",
    "test_x = reshape(test_x, size(test_x)[1]*size(test_x)[2], size(test_x)[3])\n",
    "\n",
    "data = [convert.(Float32, train_x[:,i]) for i = 1:size(train_x, 2)]\n",
    "data = data[1:5000]\n",
    "queries = [convert.(Float32, test_x[:,i]) for i = 1:size(test_x, 2)]\n",
    "queries = queries[1:500];"
   ]
  },
  {
   "cell_type": "code",
   "execution_count": 4,
   "metadata": {},
   "outputs": [],
   "source": [
    "knn_graph = DescentGraph(data, 10)\n",
    "nn = getindex.(knn_graph.graph, 1);"
   ]
  },
  {
   "cell_type": "code",
   "execution_count": 5,
   "metadata": {},
   "outputs": [],
   "source": [
    "brute_graph = brute_knn(data, Euclidean(), 10)\n",
    "true_nn = getindex.(brute_graph, 1);"
   ]
  },
  {
   "cell_type": "code",
   "execution_count": 6,
   "metadata": {},
   "outputs": [
    {
     "data": {
      "text/plain": [
       "0.9964999999999998"
      ]
     },
     "execution_count": 6,
     "metadata": {},
     "output_type": "execute_result"
    }
   ],
   "source": [
    "recall(nn, true_nn)"
   ]
  },
  {
   "cell_type": "code",
   "execution_count": 7,
   "metadata": {},
   "outputs": [],
   "source": [
    "true_idx, true_dist = brute_search(data, queries, 10, Euclidean());"
   ]
  },
  {
   "cell_type": "code",
   "execution_count": 8,
   "metadata": {},
   "outputs": [],
   "source": [
    "idx, dist = search(knn_graph, queries, 10, 70);"
   ]
  },
  {
   "cell_type": "code",
   "execution_count": 9,
   "metadata": {},
   "outputs": [
    {
     "data": {
      "text/plain": [
       "0.8865999999999992"
      ]
     },
     "execution_count": 9,
     "metadata": {},
     "output_type": "execute_result"
    }
   ],
   "source": [
    "recall(idx, true_idx)"
   ]
  },
  {
   "cell_type": "code",
   "execution_count": 10,
   "metadata": {},
   "outputs": [
    {
     "data": {
      "text/plain": [
       "330.94124478737336"
      ]
     },
     "execution_count": 10,
     "metadata": {},
     "output_type": "execute_result"
    }
   ],
   "source": [
    "q_per_sec = length(queries)/(@belapsed search(knn_graph, queries, 10, 70))"
   ]
  },
  {
   "cell_type": "code",
   "execution_count": 11,
   "metadata": {},
   "outputs": [
    {
     "data": {
      "text/plain": [
       "BenchmarkTools.Trial: \n",
       "  memory estimate:  505.40 MiB\n",
       "  allocs estimate:  10388471\n",
       "  --------------\n",
       "  minimum time:     989.240 ms (12.54% GC)\n",
       "  median time:      1.029 s (14.36% GC)\n",
       "  mean time:        1.034 s (15.30% GC)\n",
       "  maximum time:     1.101 s (18.45% GC)\n",
       "  --------------\n",
       "  samples:          5\n",
       "  evals/sample:     1"
      ]
     },
     "execution_count": 11,
     "metadata": {},
     "output_type": "execute_result"
    }
   ],
   "source": [
    "@benchmark DescentGraph(data, 10)"
   ]
  },
  {
   "cell_type": "code",
   "execution_count": 12,
   "metadata": {},
   "outputs": [
    {
     "data": {
      "text/plain": [
       "BenchmarkTools.Trial: \n",
       "  memory estimate:  691.46 MiB\n",
       "  allocs estimate:  25057017\n",
       "  --------------\n",
       "  minimum time:     1.527 s (10.49% GC)\n",
       "  median time:      1.605 s (14.83% GC)\n",
       "  mean time:        1.618 s (14.63% GC)\n",
       "  maximum time:     1.734 s (17.92% GC)\n",
       "  --------------\n",
       "  samples:          4\n",
       "  evals/sample:     1"
      ]
     },
     "execution_count": 12,
     "metadata": {},
     "output_type": "execute_result"
    }
   ],
   "source": [
    "@benchmark search(knn_graph, queries, 10, 70)"
   ]
  },
  {
   "cell_type": "code",
   "execution_count": null,
   "metadata": {},
   "outputs": [],
   "source": []
  }
 ],
 "metadata": {
  "kernelspec": {
   "display_name": "Julia 1.0.2",
   "language": "julia",
   "name": "julia-1.0"
  },
  "language_info": {
   "file_extension": ".jl",
   "mimetype": "application/julia",
   "name": "julia",
   "version": "1.0.2"
  }
 },
 "nbformat": 4,
 "nbformat_minor": 2
}
